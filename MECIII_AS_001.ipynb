{
  "nbformat": 4,
  "nbformat_minor": 0,
  "metadata": {
    "colab": {
      "provenance": []
    },
    "kernelspec": {
      "name": "python3",
      "display_name": "Python 3"
    },
    "language_info": {
      "name": "python"
    }
  },
  "cells": [
    {
      "cell_type": "markdown",
      "source": [
        "#INSTITUTO FEDERAL DE EDUCAÇÃO, CIÊNCIAS E TECNOLOGIAS DE ALAGOAS\n",
        "##ENGENHARIA CIVIL\n",
        "\n",
        "\n",
        "### SAMYLE CLÁUDIA DOS SANTOS FARIAS\n",
        "\n",
        "\n",
        "\n",
        "##  Atividade de mecânica dos Sólidos III _ AS-001\n"
      ],
      "metadata": {
        "id": "ou7t6j-UTeOj"
      }
    },
    {
      "cell_type": "markdown",
      "source": [
        "# Projeto Estrutural: Cálculo de Viga de Concreto Armado\n",
        "\n",
        "Você está trabalhando no projeto estrutural de uma residência e precisa calcular a resistência de uma viga que fará parte do suporte da laje de concreto do segundo pavimento. A viga será submetida a uma carga distribuída, representando o peso da laje e a carga de uso prevista (móveis, pessoas e outros itens) e está **bi-apoiada**.\n",
        "\n",
        "---\n",
        "\n",
        "## 1. Dados da Viga\n",
        "\n",
        "* **Viga:** Concreto armado, seção retangular.\n",
        "* **Largura:** $b=20\\text{ cm} = 0,20\\text{ m}$\n",
        "* **Altura:** $h=40\\text{ cm} = 0,40\\text{ m}$\n",
        "* **Comprimento:** $L=5\\text{ m}$\n",
        "* **Carga Distribuída Total:** $q=5\\text{ kN/m} = 5.000\\text{ N/m}$\n",
        "* **Resistência do Concreto (Compressão):** $f_{ck}=25\\text{ MPa}$\n",
        "\n",
        "---\n"
      ],
      "metadata": {
        "id": "Jj6bXTRVU6aW"
      }
    },
    {
      "cell_type": "markdown",
      "source": [
        "##**2. ANÁLISE DO PROBLEMA**\n",
        "\n",
        "\n",
        "---\n",
        "\n",
        "Para esse exercício é preciso encontrar o centróide, o momento de Inércia com relação ao centróide e o momento fletor máximo.\n",
        "\n",
        "\n",
        "---\n",
        "\n",
        "\n"
      ],
      "metadata": {
        "id": "yrRTkymKU8fa"
      }
    },
    {
      "cell_type": "code",
      "source": [
        "import matplotlib.pyplot as plt\n",
        "import matplotlib.patches as patches\n",
        "\n",
        "# --- Dados da Viga ---\n",
        "L = 5  # Comprimento da viga (m)\n",
        "q = 5  # Carga distribuída (kN/m)\n",
        "\n",
        "# --- Configuração do Plot ---\n",
        "fig, ax = plt.subplots(figsize=(8, 3))\n",
        "ax.set_xlim(-0.5, L + 0.5)\n",
        "ax.set_ylim(-1.5, 2.5)\n",
        "ax.set_aspect('equal', adjustable='box')\n",
        "ax.axis('off') # Remove os eixos\n",
        "\n",
        "# 1. Desenho da Viga (Linha Principal)\n",
        "ax.plot([0, L], [0, 0], 'k-', linewidth=3, label='Viga')\n",
        "\n",
        "# 2. Desenho dos Apoios (Bi-apoiada: Pino e Rolo)\n",
        "# Apoio da Esquerda (Pino)\n",
        "ax.plot(0, 0, 'ko', markersize=5) # Círculo do pino\n",
        "ax.plot([-0.2, 0.2], [-0.4, -0.4], 'k-', linewidth=1) # Base do apoio\n",
        "# Triângulo do pino\n",
        "pino = patches.Polygon([[0, 0], [-0.15, -0.4], [0.15, -0.4]], closed=True,\n",
        "                       facecolor='white', edgecolor='k', linewidth=1)\n",
        "ax.add_patch(pino)\n",
        "\n",
        "# Apoio da Direita (Rolo)\n",
        "ax.plot(L, 0, 'ko', markersize=5) # Círculo do rolo\n",
        "ax.plot([L-0.15, L+0.15], [-0.4, -0.4], 'k-', linewidth=1) # Base do apoio\n",
        "ax.plot([L-0.2, L+0.2], [-0.5, -0.5], 'k-', linewidth=1) # Chão (base)\n",
        "# Triângulo do rolo\n",
        "rolo = patches.Polygon([[L, 0], [L-0.15, -0.4], [L+0.15, -0.4]], closed=True,\n",
        "                       facecolor='white', edgecolor='k', linewidth=1)\n",
        "ax.add_patch(rolo)\n",
        "# Círculos do rolo\n",
        "ax.plot([L-0.1, L, L+0.1], [-0.45, -0.45, -0.45], 'ko', markersize=3)\n",
        "\n",
        "# 3. Desenho da Carga Distribuída\n",
        "num_setas = 10 # Número de setas para representar a carga\n",
        "x_setas = [L * i / (num_setas - 1) for i in range(num_setas)]\n",
        "for x in x_setas:\n",
        "    ax.arrow(x, 1.5, 0, -1.3, head_width=0.08, head_length=0.15, fc='r', ec='r', linewidth=1)\n",
        "\n",
        "# Linha da Carga Distribuída\n",
        "ax.plot([0, L], [1.5, 1.5], 'r-', linewidth=1.5)\n",
        "\n",
        "# 4. Anotações\n",
        "ax.text(L/2, 1.8, f' q = {q} kN/m', fontsize=12, color='r')\n",
        "ax.text(L/2, -1.2, f'{L} m', ha='center', fontsize=12)\n",
        "\n",
        "# Linhas de cota para o comprimento L\n",
        "ax.plot([0, 0], [-0.7, -0.9], 'k-')\n",
        "ax.plot([L, L], [-0.7, -0.9], 'k-')\n",
        "ax.arrow(0, -0.8, L, 0, head_width=0.05, head_length=0.1, fc='k', ec='k', length_includes_head=True)\n",
        "ax.arrow(L, -0.8, -L, 0, head_width=0.05, head_length=0.1, fc='k', ec='k', length_includes_head=True)\n",
        "\n",
        "plt.title('Viga Bi-apoiada com Carga Distribuída Uniforme', fontsize=14)\n",
        "plt.show()"
      ],
      "metadata": {
        "colab": {
          "base_uri": "https://localhost:8080/",
          "height": 291
        },
        "id": "xB1T6RVfVoK7",
        "outputId": "a724151c-f002-43fa-a5e9-927100bfd423"
      },
      "execution_count": null,
      "outputs": [
        {
          "output_type": "display_data",
          "data": {
            "text/plain": [
              "<Figure size 800x300 with 1 Axes>"
            ],
            "image/png": "[encoded data removed]"
          },
          "metadata": {}
        }
      ]
    },
    {
      "cell_type": "markdown",
      "source": [
        "##**3. CÁLCULOS**"
      ],
      "metadata": {
        "id": "QmbUGwsPVSDI"
      }
    },
    {
      "cell_type": "markdown",
      "source": [
        "###**3.1 Calculo do centróide a seção transversal**\n",
        "\n",
        "\n",
        "\n",
        "---\n",
        "\n",
        "\n",
        "Coordenada do centroide com relação a base:\n",
        "\n",
        "$$\\bar{x} = \\frac{b}{2} =\\frac{20}{2} = 10 $$\n",
        "\n",
        "$$\\bar{y} = \\frac{h}{2} =\\frac{40}{2} = 20 $$\n",
        "\n",
        "Seção transversal com o eixo passando no centróide:\n",
        "\n",
        "\n",
        "---\n",
        "\n",
        "\n"
      ],
      "metadata": {
        "id": "7DMSbLeaVb46"
      }
    },
    {
      "cell_type": "code",
      "source": [
        "# --- Dados da Seção ---\n",
        "b = 20  # Largura (cm)\n",
        "h = 40  # Altura (cm)\n",
        "\n",
        "# --- Configuração do Plot ---\n",
        "fig, ax = plt.subplots(figsize=(4, 6))\n",
        "# Define os limites (centrado na origem)\n",
        "ax.set_xlim(-b/2 - 10, b/2 + 10)\n",
        "ax.set_ylim(-h/2 - 10, h/2 + 10)\n",
        "ax.set_aspect('equal', adjustable='box')\n",
        "\n",
        "# 1. Desenho do Retângulo da Seção (Concreto)\n",
        "# O retângulo é desenhado a partir do canto inferior esquerdo\n",
        "secao = patches.Rectangle((-b/2, -h/2), b, h,\n",
        "                          facecolor='#808080', edgecolor='k', linewidth=2, hatch='///')\n",
        "ax.add_patch(secao)\n",
        "\n",
        "# 2. Desenho do Eixo (Centroide)\n",
        "ax.axhline(0, color='r', linestyle='--', linewidth=0.8) # Eixo horizontal\n",
        "ax.axvline(0, color='r', linestyle='--', linewidth=0.8) # Eixo vertical\n",
        "ax.plot(0, 0, 'ro', markersize=5) # Centroide\n",
        "\n",
        "# 3. Anotações de Largura (b)\n",
        "ax.plot([-b/2, -b/2], [-h/2, h/2], 'k|') # Cotas verticais da largura\n",
        "ax.text(0, -h/2 - 5, f'b = {b} cm', ha='center', fontsize=12)\n",
        "ax.arrow(-b/2, -h/2 - 2, b, 0, head_width=1, head_length=1, fc='k', ec='k', length_includes_head=True)\n",
        "ax.arrow(b/2, -h/2 - 2, -b, 0, head_width=1, head_length=1, fc='k', ec='k', length_includes_head=True)\n",
        "\n",
        "# 4. Anotações de Altura (h)\n",
        "ax.plot([-b/2, b/2], [h/2, h/2], 'k_') # Cotas horizontais da altura\n",
        "ax.text(b/2 + 5, 0, f'h = {h} cm', va='center', fontsize=12, rotation=90)\n",
        "ax.arrow(b/2 + 2, -h/2, 0, h, head_width=1, head_length=1, fc='k', ec='k', length_includes_head=True)\n",
        "ax.arrow(b/2 + 2, h/2, 0, -h, head_width=1, head_length=1, fc='k', ec='k', length_includes_head=True)\n",
        "\n",
        "plt.title('Seção Transversal Retangular (Concreto Armado)', fontsize=14)\n",
        "plt.xlabel('Largura (cm)')\n",
        "plt.ylabel('Altura (cm)')\n",
        "plt.show()"
      ],
      "metadata": {
        "colab": {
          "base_uri": "https://localhost:8080/",
          "height": 565
        },
        "id": "4gOeYmLuXnJZ",
        "outputId": "688759b9-686c-446a-f050-7173d90a4c4c"
      },
      "execution_count": null,
      "outputs": [
        {
          "output_type": "display_data",
          "data": {
            "text/plain": [
              "<Figure size 400x600 with 1 Axes>"
            ],
            "image/png": "[encoded data removed]"
          },
          "metadata": {}
        }
      ]
    },
    {
      "cell_type": "markdown",
      "source": [
        "### **3.2 Cálculo do momento de Inércia**\n",
        "\n",
        "\n",
        "---\n",
        "\n",
        "\n",
        "#### O momento de inércia para uma seção retangular em torno do seu eixo centroidal horizontal (que é o eixo onde ocorre a flexão) é dado pela fórmula:\n",
        "$$I = \\frac{b \\cdot h^3}{12}$$\n",
        "\n",
        "####*Para a flexão reta, é preciso do Momento de Inércia em relação ao eixo principal perpendicular ao plano de aplicação do momento fletor.*\n",
        "\n",
        "\n",
        "---\n",
        "\n"
      ],
      "metadata": {
        "id": "T12uN78YXcLv"
      }
    },
    {
      "cell_type": "code",
      "source": [
        "# --- Dados da Seção (convertidos para metros) ---\n",
        "b = 0.20  # Largura (m)\n",
        "h = 0.40  # Altura (m)\n",
        "\n",
        "# --- Cálculo do Momento de Inércia (I = b*h^3 / 12) ---\n",
        "I = (b * h**3) / 12\n",
        "\n",
        "# --- Exibição do Resultado ---\n",
        "print(f\"--- MOMENTO DE INÉRCIA ---\")\n",
        "print(f\"Largura (b): {b} m\")\n",
        "print(f\"Altura (h): {h} m\")\n",
        "print(\"-\" * 30)\n",
        "# Usando notação científica para clareza\n",
        "print(f\"Momento de Inércia (I): {I:.8f} m^4\")"
      ],
      "metadata": {
        "colab": {
          "base_uri": "https://localhost:8080/"
        },
        "id": "uXXQshgjbVub",
        "outputId": "063505db-4107-4325-e157-1e145c04ee73"
      },
      "execution_count": null,
      "outputs": [
        {
          "output_type": "stream",
          "name": "stdout",
          "text": [
            "--- MOMENTO DE INÉRCIA ---\n",
            "Largura (b): 0.2 m\n",
            "Altura (h): 0.4 m\n",
            "------------------------------\n",
            "Momento de Inércia (I): 0.00106667 m^4\n"
          ]
        }
      ]
    },
    {
      "cell_type": "markdown",
      "source": [
        "### **3.3 Cálculo do momento**\n",
        "\n",
        "\n",
        "---\n",
        "\n",
        "\n",
        "#### A viga é bi-apoiada e está sujeita a uma carga distribuída uniforme (q). Para essa configuração clássica, o momento fletor máximo ocorre no centro do vão e é dado pela seguinte equação:\n",
        "\n",
        "$$M_{máx} = \\frac{q \\cdot L^2}{8}$$\n",
        "\n",
        "\n",
        "---\n",
        "\n"
      ],
      "metadata": {
        "id": "DNRzuulBco-s"
      }
    },
    {
      "cell_type": "code",
      "source": [
        "# --- Dados da Viga ---\n",
        "q = 5.0  # Carga distribuída (kN/m)\n",
        "L = 5.0  # Comprimento da viga (m)\n",
        "\n",
        "# --- Cálculo do Momento Fletor Máximo (M_max = q*L^2 / 8) ---\n",
        "M_max = (q * L**2) / 8\n",
        "M_max = M_max * 1000 #Em N/m\n",
        "# --- Exibição do Resultado ---\n",
        "print(f\"--- MOMENTO FLETOR MÁXIMO ---\")\n",
        "print(f\"Carga (q): {q} kN/m\")\n",
        "print(f\"Comprimento (L): {L} m\")\n",
        "print(\"-\" * 35)\n",
        "print(f\"Momento Máximo (M_max): {M_max:.3f} N*m\")"
      ],
      "metadata": {
        "colab": {
          "base_uri": "https://localhost:8080/"
        },
        "id": "-h5s4OM3d1EZ",
        "outputId": "ffd13334-3511-459e-d694-a4bc7400c753"
      },
      "execution_count": null,
      "outputs": [
        {
          "output_type": "stream",
          "name": "stdout",
          "text": [
            "--- MOMENTO FLETOR MÁXIMO ---\n",
            "Carga (q): 5.0 kN/m\n",
            "Comprimento (L): 5.0 m\n",
            "-----------------------------------\n",
            "Momento Máximo (M_max): 15625.000 N*m\n"
          ]
        }
      ]
    },
    {
      "cell_type": "markdown",
      "source": [
        " ### 3.4 Cálculo da Tensão Máxima de Flexão\n",
        "\n",
        "\n",
        "---\n",
        "\n",
        "\n",
        "#### A tensão máxima em uma viga sob flexão reta ocorre nas fibras mais distantes do eixo neutro (centroide) e é calculada pela Fórmula da Flexão:\n",
        "$$\\sigma_{máx} = \\frac{M_{máx} \\cdot y_{máx}}{I}$$\n",
        "\n",
        "\n",
        "---\n",
        "\n"
      ],
      "metadata": {
        "id": "XP9LXdPyeRVi"
      }
    },
    {
      "cell_type": "code",
      "source": [
        "# --- Distância máxima do Eixo Neutro (y_max = h/2) ---\n",
        "y_max = h / 2\n",
        "\n",
        "# --- Cálculo da Tensão Máxima (sigma_max = M_max * y_max / I) ---\n",
        "sigma_max_Pa = (M_max * y_max) / I\n",
        "\n",
        "# --- Conversão para MPa (1 MPa = 1,000,000 Pa) ---\n",
        "sigma_max_MPa = sigma_max_Pa / 1000000\n",
        "\n",
        "# --- Exibição dos Resultados ---\n",
        "print(f\"--- TENSÃO MÁXIMA DE FLEXÃO ---\")\n",
        "print(f\"M_max (N*m): {M_max:.2f}\")\n",
        "print(f\"I (m^4): {I:.8f}\")\n",
        "print(f\"y_max (m): {y_max:.2f}\")\n",
        "print(\"-\" * 35)\n",
        "print(f\"Tensão Máxima (sigma_max): {sigma_max_MPa:.2f} MPa\")"
      ],
      "metadata": {
        "colab": {
          "base_uri": "https://localhost:8080/"
        },
        "id": "TJCDtQ8pfKBP",
        "outputId": "d2259a39-374f-4190-df3d-9ad12482ae33"
      },
      "execution_count": null,
      "outputs": [
        {
          "output_type": "stream",
          "name": "stdout",
          "text": [
            "--- TENSÃO MÁXIMA DE FLEXÃO ---\n",
            "M_max (N*m): 15625.00\n",
            "I (m^4): 0.00106667\n",
            "y_max (m): 0.20\n",
            "-----------------------------------\n",
            "Tensão Máxima (sigma_max): 2.93 MPa\n"
          ]
        }
      ]
    },
    {
      "cell_type": "markdown",
      "source": [
        "### 3.5 Cálculo da Flecha Máxima\n",
        "\n",
        "---\n",
        "\n",
        "\n",
        "#### A fórmula para a Flexa Máxima foi fornecida no enunciado, juntamente com a fórmula para calcular o Módulo de Elasticidade (E).\n",
        "\n",
        "\n",
        "---\n",
        "\n",
        "\n",
        "Módulo de Elasticidade (E):\n",
        "$$E = 5600 \\cdot \\sqrt{f_{ck}}$$\n",
        "\n",
        "\n",
        "---\n",
        "\n",
        "\n",
        " Flecha Máxima:\n",
        " $$\\delta_{máx} = \\frac{5 \\cdot q \\cdot L^4}{384 \\cdot E \\cdot I}$$\n",
        "\n",
        "---\n",
        "\n"
      ],
      "metadata": {
        "id": "BL_qOTaNhNCH"
      }
    },
    {
      "cell_type": "code",
      "source": [
        "import numpy as np\n",
        "\n",
        "# --- 1. CÁLCULO DO MÓDULO DE ELASTICIDADE (E) ---\n",
        "fck = 25.0              # Resistência à compressão (MPa)\n",
        "E_MPa = 5600 * np.sqrt(fck)\n",
        "E_Pa = E_MPa * 1e6      # Conversão para Pa (N/m^2)\n",
        "\n",
        "# --- 2. DADOS DA VIGA ---\n",
        "q = 5.0 * 1000            # Carga distribuída (N/m)\n",
        "\n",
        "# --- 3. CÁLCULO DA FLECHA (delta_max = 5*q*L^4 / 384*E*I) ---\n",
        "delta_max_m = (5 * q * L**4) / (384 * E_Pa * I)\n",
        "\n",
        "# --- 4. EXIBIÇÃO DOS RESULTADOS ---\n",
        "print(f\"--- MÓDULO DE ELASTICIDADE ---\")\n",
        "print(f\"E: {E_MPa:.0f} MPa\")\n",
        "print(\"-\" * 35)\n",
        "\n",
        "print(f\"--- FLECHA MÁXIMA ---\")\n",
        "# Flecha em metros\n",
        "print(f\"Delta Máximo (m): {delta_max_m:.6f} m\")\n",
        "\n",
        "# Flecha em milímetros (mm)\n",
        "delta_max_mm = delta_max_m * 1000\n",
        "print(f\"Delta Máximo (mm): {delta_max_mm:.3f} mm\")"
      ],
      "metadata": {
        "colab": {
          "base_uri": "https://localhost:8080/"
        },
        "id": "ZaYojLEsnbIo",
        "outputId": "9b940ab2-0b1a-412e-dc40-d761b591c2ef"
      },
      "execution_count": null,
      "outputs": [
        {
          "output_type": "stream",
          "name": "stdout",
          "text": [
            "--- MÓDULO DE ELASTICIDADE ---\n",
            "E: 28000 MPa\n",
            "-----------------------------------\n",
            "--- FLECHA MÁXIMA ---\n",
            "Delta Máximo (m): 0.001362 m\n",
            "Delta Máximo (mm): 1.362 mm\n"
          ]
        }
      ]
    },
    {
      "cell_type": "markdown",
      "source": [
        "###**4. RESULTADOS**\n",
        "\n",
        "| Cálculo | Símbolo | Valor   | Unidade  |\n",
        "| :---: | :---: | :----: | :---: |\n",
        "| Momento de Inércia | $I$ | $0,001067$ | $\\text{m}^4$ |\n",
        "| Momento Máximo | $M_{máx}$ | $15,625$ | $\\text{kN}\\cdot\\text{m}$ |\n",
        "| Tensão Máxima | $\\sigma_{máx}$ | $2,93$ | $\\text{MPa}$ |\n",
        "| Flecha Máxima | $\\delta_{máx}$ | $1,362$ | $\\text{mm}$ |"
      ],
      "metadata": {
        "id": "JREnoVnbqAMh"
      }
    }
  ]
}