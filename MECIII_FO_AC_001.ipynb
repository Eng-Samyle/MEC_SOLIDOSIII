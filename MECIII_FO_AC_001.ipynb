{
  "nbformat": 4,
  "nbformat_minor": 0,
  "metadata": {
    "colab": {
      "provenance": []
    },
    "kernelspec": {
      "name": "python3",
      "display_name": "Python 3"
    },
    "language_info": {
      "name": "python"
    }
  },
  "cells": [
    {
      "cell_type": "markdown",
      "source": [
        "#INSTITUTO FEDERAL DE EDUCAÇÃO, CIÊNCIAS E TECNOLOGIAS DE ALAGOAS\n",
        "##ENGENHARIA CIVIL\n",
        "\n",
        "\n",
        "### SAMYLE CLÁUDIA DOS SANTOS FARIAS\n",
        "\n",
        "\n",
        "\n",
        "##  Atividade de mecânica dos Sólidos III _ AC-002\n"
      ],
      "metadata": {
        "id": "ou7t6j-UTeOj"
      }
    },
    {
      "cell_type": "markdown",
      "source": [
        "##**CÁLCULOS**"
      ],
      "metadata": {
        "id": "QmbUGwsPVSDI"
      }
    },
    {
      "cell_type": "markdown",
      "source": [
        "#### O Avanço da Inteligência Artificial tem se tornado constante em nossas vidas contudo, é importante entender como funciona e o principal, onde aplicar IA. Nessa proposta quero que você resolva o seguinte problema:\n",
        "Uma viga engastada de 4m de comprimento é construída a partir de um perfil metálico do tipo IPN 500. Uma carga P = 45 kN age na direção vertical, na extremidade da viga. Assim:\n",
        "Determine a posição na LN e as tensões de flexão máximas (tração e compressão) se a carga estiver inclinada de um pequeno ângulo de 1° em relação ao eixo y"
      ],
      "metadata": {
        "id": "JikJYhkDsvc0"
      }
    },
    {
      "cell_type": "code",
      "source": [
        "# Cálculo do momento de inercia\n",
        "import math\n",
        "graus = 1\n",
        "theta = math.radians(graus)\n",
        "M_z = math.sin(theta)*180*10**3\n",
        "M_y = math.cos(theta)*180*10**3\n",
        "\n",
        "print('M_z = ', m_z, 'N.m')\n",
        "print('M_y = ', m_y, 'N.m')"
      ],
      "metadata": {
        "colab": {
          "base_uri": "https://localhost:8080/"
        },
        "id": "2orylEMCweWC",
        "outputId": "9d488bcc-0718-4568-f7bd-22b92d1af9f8"
      },
      "execution_count": 67,
      "outputs": [
        {
          "output_type": "stream",
          "name": "stdout",
          "text": [
            "M_z =  3141.433158711032 N.m\n",
            "M_y =  179972.58512815041 N.m\n"
          ]
        }
      ]
    },
    {
      "cell_type": "markdown",
      "source": [
        "## 3. CÁLCULO DA FLEXÃO OBLÍQUA\n",
        "\n",
        "\n",
        "---\n",
        "\n",
        "\n",
        "### 3.1. Fórmula Geral da Tensão Normal\n",
        "\n",
        "A tensão normal $\\sigma$ em qualquer ponto $(y, z)$ da seção transversal, devido à flexão oblíqua, é dada pela fórmula geral:\n",
        "\n",
        "$$\\sigma = - \\frac{M_z \\cdot y}{I_z} + \\frac{M_y \\cdot z}{I_y}$$\n",
        "\n",
        "Onde:\n",
        "* $\\sigma$: Tensão normal (Pa).\n",
        "* $M_z$: Componente do momento fletor que causa rotação em torno do eixo $z$.\n",
        "* $M_y$: Componente do momento fletor que causa rotação em torno do eixo $y$.\n",
        "* $I_z$: Momento de inércia em relação ao eixo $z$.\n",
        "* $I_y$: Momento de inércia em relação ao eixo $y$.\n",
        "* $y, z$: Coordenadas do ponto onde a tensão está na imagem.\n",
        "\n",
        "\n",
        "---\n"
      ],
      "metadata": {
        "id": "XP9LXdPyeRVi"
      }
    },
    {
      "cell_type": "code",
      "source": [
        "print(\"--- 3.1 CÁLCULO DA FLEXÃO OBLÍQUA EXTERNA---\")\n",
        "# Definição das Coordenadas Máximas (m)\n",
        "y_max = 0.5 / 2\n",
        "z_max = 0.185 / 2\n",
        "I_y = 2.48*10**(-5)\n",
        "I_z = 6.874*10**(-4)\n",
        "# Cálculo da Tensão nos Pontos Críticos\n",
        "\n",
        "# A fórmula é: sigma = - (M_z * y / I_z) + (M_y * z / I_y)\n",
        "\n",
        "pontos = {\n",
        "    'A': (y_max, -z_max), # y+, z-\n",
        "    'B': (y_max, z_max),  # y+, z+\n",
        "    'C': (-y_max, -z_max),# y-, z-\n",
        "    'D': (-y_max, z_max), # y-, z+\n",
        "}\n",
        "\n",
        "tensoes = {}\n",
        "\n",
        "print(\"\\n--- Tensão Normal (sigma) nos Pontos Críticos (Pa) ---\")\n",
        "\n",
        "for nome, (y, z) in pontos.items():\n",
        "    sigma = - ((M_z * y) / I_z) + ((M_y * z) / I_y)\n",
        "    tensoes[nome] = sigma\n",
        "    # Conversão para MPa para melhor leitura (1 Pa = 1 N/m^2; 1 MPa = 1e6 Pa)\n",
        "    print(f\"sigma_{nome}: {sigma / 1e6:.2f} MPa\")\n",
        "\n",
        "\n",
        "# Cálculo da Posição da Linha Neutra (LN)\n",
        "\n",
        "# Fórmula para o ângulo da Linha Neutra (beta) em relação ao eixo z:\n",
        "# tan(beta) = (I_z / I_y) * tan(theta)\n",
        "tan_theta = np.tan(np.deg2rad(1))\n",
        "tan_beta = (I_z / I_y) * tan_theta\n",
        "beta_rad = np.arctan(tan_beta)\n",
        "beta_deg = np.rad2deg(beta_rad)\n",
        "\n",
        "print(\"\\n--- Posição da Linha Neutra ---\")\n",
        "print(f\"Ângulo theta (Momento): {1:.1f}°\")\n",
        "print(f\"Ângulo beta (Linha Neutra): {beta_deg:.2f}° (Com o eixo z, medido no sentido anti-horário)\")"
      ],
      "metadata": {
        "colab": {
          "base_uri": "https://localhost:8080/"
        },
        "id": "TJCDtQ8pfKBP",
        "outputId": "543100f2-76d6-4414-b9da-2a3074b81609"
      },
      "execution_count": 71,
      "outputs": [
        {
          "output_type": "stream",
          "name": "stdout",
          "text": [
            "--- 3.1 CÁLCULO DA FLEXÃO OBLÍQUA EXTERNA---\n",
            "\n",
            "--- Tensão Normal (sigma) nos Pontos Críticos (Pa) ---\n",
            "sigma_A: -672.41 MPa\n",
            "sigma_B: 670.13 MPa\n",
            "sigma_C: -670.13 MPa\n",
            "sigma_D: 672.41 MPa\n",
            "\n",
            "--- Posição da Linha Neutra ---\n",
            "Ângulo theta (Momento): 1.0°\n",
            "Ângulo beta (Linha Neutra): 25.82° (Com o eixo z, medido no sentido anti-horário)\n"
          ]
        }
      ]
    },
    {
      "cell_type": "markdown",
      "source": [
        "# Relatório: Uso de Inteligência Artificial em Teoria das Estruturas\n",
        "\n",
        "## Introdução\n",
        "Este relatório apresenta o uso de uma ferramenta de Inteligência Artificial (IA) para resolver uma questão de Teoria das Estruturas. O objetivo foi avaliar a capacidade da IA de aplicar conceitos físicos e matemáticos em um problema estrutural real.\n",
        "\n",
        "## Desenvolvimento\n",
        "A IA seguiu um raciocínio lógico coerente, aplicando corretamente os princípios de equilíbrio e as etapas de cálculo.  \n",
        "Entretanto, cometeu um erro físico fundamental ao tentar calcular o momento em cada eixo, ela não soube decompor o momento de forma correta e persistiu nesse erro mesmo após explicações e correções.\n",
        "\n",
        "Isso ocorreu porque o modelo de IA, embora capaz de reproduzir fórmulas e métodos, não compreende fisicamente o comportamento estrutural, operando apenas com padrões textuais e matemáticos.\n",
        "\n",
        "## Conclusão\n",
        "A experiência mostrou que a IA pode auxiliar na organização do raciocínio e na revisão de cálculos, mas não substitui a análise crítica do engenheiro.  \n",
        "Erros físicos exigem interpretação conceitual e conhecimento técnico, algo que a IA ainda não realiza de forma autônoma.\n",
        "\n",
        "---\n"
      ],
      "metadata": {
        "id": "G4SEuegF0J0o"
      }
    }
  ]
}